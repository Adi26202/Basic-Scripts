{
 "cells": [
  {
   "cell_type": "code",
   "execution_count": null,
   "id": "narrative-touch",
   "metadata": {},
   "outputs": [],
   "source": [
    "import random as rd\n",
    "def dice():\n",
    "    a=rd.randint(1,6)\n",
    "    if a==1:\n",
    "        print(\"_\"*15,'|'+' '*13+'|','|'+' '*13+'|','|'+' '*6+'#'+' '*6+'|','|'+' '*13+'|','|'+\"_\"*13+'|',sep='\\n')\n",
    "    elif a==2:\n",
    "        print(\"_\"*15,'|'+' '*13+'|','|'+' '*13+'|','|'+' '*4+'#   #'+' '*4+'|','|'+' '*13+'|','|'+\"_\"*13+'|',sep='\\n')\n",
    "    elif a==3:\n",
    "        print(\"_\"*15,'|'+' '*13+'|','|'+' '*13+'|','|'+' '*3+'#  #  #'+' '*3+'|','|'+' '*13+'|','|'+\"_\"*13+'|',sep='\\n')\n",
    "    elif a==4:\n",
    "        print(\"_\"*15,'|'+' '*13+'|','|'+' '*6+'#'+' '*6+'|','|'+' '*4+'#   #'+' '*4+'|','|'+' '*6+'#'+' '*6+'|','|'+\"_\"*13+'|',sep='\\n')\n",
    "    elif a==5:\n",
    "        print(\"_\"*15,'|'+' '*13+'|','|'+' '*4+'#   #'+' '*4+'|','|'+' '*4+'#   #'+' '*4+'|','|'+' '*4+'#   #'+' '*4+'|','|'+\"_\"*13+'|',sep='\\n')\n",
    "    else:\n",
    "        print(\"_\"*15,'|'+' '*13+'|','|'+' '*4+'#   #'+' '*4+'|','|'+' '*6+'#'+' '*6+'|','|'+' '*4+'#   #'+' '*4+'|','|'+\"_\"*13+'|',sep='\\n')\n",
    "    roll()\n",
    "def roll():\n",
    "    a=input(\"Press 0 to Roll the Dice \\nPress 1 to Exit the Game \")\n",
    "    if a==0:\n",
    "        dice()\n",
    "    elif a==1:\n",
    "        print(\"Thanks for Playing\")\n",
    "    else :\n",
    "        print(\"Invalid Input\")\n",
    "        roll()\n",
    "print('  '*6,\"This is a Dice Simulator\",'  '*6)\n",
    "roll()"
   ]
  },
  {
   "cell_type": "code",
   "execution_count": null,
   "id": "false-documentary",
   "metadata": {},
   "outputs": [],
   "source": []
  }
 ],
 "metadata": {
  "kernelspec": {
   "display_name": "Python 3",
   "language": "python",
   "name": "python3"
  },
  "language_info": {
   "codemirror_mode": {
    "name": "ipython",
    "version": 3
   },
   "file_extension": ".py",
   "mimetype": "text/x-python",
   "name": "python",
   "nbconvert_exporter": "python",
   "pygments_lexer": "ipython3",
   "version": "3.8.5"
  }
 },
 "nbformat": 4,
 "nbformat_minor": 5
}
